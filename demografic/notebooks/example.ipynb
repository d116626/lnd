{
 "cells": [
  {
   "cell_type": "code",
   "execution_count": 1,
   "metadata": {},
   "outputs": [],
   "source": [
    "def stack_bar(x_m,y_m,x_h,y_h,name):\n",
    "    trace1 = go.Bar(\n",
    "        x=x_m,\n",
    "        y=y_m,\n",
    "        name='F',\n",
    "        text=y_m,\n",
    "        textposition = 'auto'\n",
    "    )\n",
    "    trace2 = go.Bar(\n",
    "        x=x_h,\n",
    "        y=y_h,\n",
    "        name='M',\n",
    "        text=y_h,\n",
    "        textposition = 'auto'\n",
    "    )\n",
    "\n",
    "    data = [trace1, trace2]\n",
    "    layout = go.Layout(title=name,\n",
    "        barmode='stack',\n",
    "        width=400*3.18, \n",
    "        height=1.3*660,  #960\n",
    "    )\n",
    "\n",
    "    fig = go.Figure(data=data, layout=layout)\n",
    "    iplot(fig, filename='stacked-bar')\n",
    "#     plotly.offline.plot(fig)\n",
    "    plotly.offline.plot(fig, filename = '%s.html'%name, auto_open=True)"
   ]
  },
  {
   "cell_type": "code",
   "execution_count": 2,
   "metadata": {},
   "outputs": [
    {
     "data": {
      "text/html": [
       "<script type=\"text/javascript\">window.PlotlyConfig = {MathJaxConfig: 'local'};</script><script type=\"text/javascript\">if (window.MathJax) {MathJax.Hub.Config({SVG: {font: \"STIX-Web\"}});}</script><script>requirejs.config({paths: { 'plotly': ['https://cdn.plot.ly/plotly-latest.min']},});if(!window._Plotly) {require(['plotly'],function(plotly) {window._Plotly=plotly;});}</script>"
      ],
      "text/vnd.plotly.v1+html": [
       "<script type=\"text/javascript\">window.PlotlyConfig = {MathJaxConfig: 'local'};</script><script type=\"text/javascript\">if (window.MathJax) {MathJax.Hub.Config({SVG: {font: \"STIX-Web\"}});}</script><script>requirejs.config({paths: { 'plotly': ['https://cdn.plot.ly/plotly-latest.min']},});if(!window._Plotly) {require(['plotly'],function(plotly) {window._Plotly=plotly;});}</script>"
      ]
     },
     "metadata": {},
     "output_type": "display_data"
    }
   ],
   "source": [
    "%reload_ext autoreload\n",
    "%autoreload 2\n",
    "\n",
    "import sys\n",
    "from pathlib import Path \n",
    "current_path = Path().resolve()\n",
    "abs_path = str(current_path.parent)\n",
    "sys.path.append(abs_path)\n",
    "\n",
    "RAW_PATH = current_path.parent / 'data' / 'raw'\n",
    "OUTPUT_PATH = current_path.parent / 'data' / 'output'\n",
    "import warnings\n",
    "warnings.filterwarnings('ignore')\n",
    "import pandas as pd\n",
    "pd.set_option('display.max_columns', None)\n",
    "import matplotlib.pyplot as plt\n",
    "import seaborn as sns\n",
    "\n",
    "import plotly\n",
    "from plotly.offline import download_plotlyjs, init_notebook_mode, plot, iplot\n",
    "# from plotly.plotly import iplot\n",
    "import plotly.graph_objs as go\n",
    "import plotly.io as pio\n",
    "\n",
    "# plotly.tools.set_credentials_file(username='d116626', api_key='rCLXowBHHQLJHHzTxSNM')\n",
    "init_notebook_mode(connected=True)\n",
    "\n",
    "import numpy as np\n",
    "\n",
    "\n",
    "import missingno as msno\n",
    "\n",
    "stats = ['skew', 'mad', 'kurt']\n",
    "\n",
    "\n",
    "import qgrid\n",
    "\n",
    "def qg(df):\n",
    "    return(qgrid.show_grid(df,show_toolbar=True, grid_options={'forceFitColumns': False}))"
   ]
  },
  {
   "cell_type": "code",
   "execution_count": 3,
   "metadata": {},
   "outputs": [],
   "source": [
    "lnd = pd.read_excel('%s/demographic.xlsx' %RAW_PATH)"
   ]
  },
  {
   "cell_type": "code",
   "execution_count": 4,
   "metadata": {},
   "outputs": [],
   "source": [
    "df = lnd.copy()"
   ]
  },
  {
   "cell_type": "code",
   "execution_count": 5,
   "metadata": {},
   "outputs": [
    {
     "data": {
      "text/plain": [
       " 1.0    595\n",
       " 0.0    473\n",
       "NaN       2\n",
       "Name: selecionado, dtype: int64"
      ]
     },
     "execution_count": 5,
     "metadata": {},
     "output_type": "execute_result"
    }
   ],
   "source": [
    "df.selecionado.value_counts(dropna=False)"
   ]
  },
  {
   "cell_type": "code",
   "execution_count": 6,
   "metadata": {},
   "outputs": [
    {
     "data": {
      "text/plain": [
       "1070"
      ]
     },
     "execution_count": 6,
     "metadata": {},
     "output_type": "execute_result"
    }
   ],
   "source": [
    "df = df.fillna(0)\n",
    "len(df)"
   ]
  },
  {
   "cell_type": "code",
   "execution_count": 7,
   "metadata": {},
   "outputs": [
    {
     "data": {
      "text/html": [
       "<div>\n",
       "<style scoped>\n",
       "    .dataframe tbody tr th:only-of-type {\n",
       "        vertical-align: middle;\n",
       "    }\n",
       "\n",
       "    .dataframe tbody tr th {\n",
       "        vertical-align: top;\n",
       "    }\n",
       "\n",
       "    .dataframe thead th {\n",
       "        text-align: right;\n",
       "    }\n",
       "</style>\n",
       "<table border=\"1\" class=\"dataframe\">\n",
       "  <thead>\n",
       "    <tr style=\"text-align: right;\">\n",
       "      <th></th>\n",
       "      <th>count</th>\n",
       "      <th>unique</th>\n",
       "      <th>top</th>\n",
       "      <th>freq</th>\n",
       "      <th>mean</th>\n",
       "      <th>std</th>\n",
       "      <th>min</th>\n",
       "      <th>25%</th>\n",
       "      <th>50%</th>\n",
       "      <th>75%</th>\n",
       "      <th>max</th>\n",
       "    </tr>\n",
       "  </thead>\n",
       "  <tbody>\n",
       "    <tr>\n",
       "      <th>Nome</th>\n",
       "      <td>1070</td>\n",
       "      <td>849</td>\n",
       "      <td>SONIA NEVES ROMEU SILVA</td>\n",
       "      <td>6</td>\n",
       "      <td>NaN</td>\n",
       "      <td>NaN</td>\n",
       "      <td>NaN</td>\n",
       "      <td>NaN</td>\n",
       "      <td>NaN</td>\n",
       "      <td>NaN</td>\n",
       "      <td>NaN</td>\n",
       "    </tr>\n",
       "    <tr>\n",
       "      <th>HC</th>\n",
       "      <td>1070</td>\n",
       "      <td>922</td>\n",
       "      <td>3</td>\n",
       "      <td>11</td>\n",
       "      <td>NaN</td>\n",
       "      <td>NaN</td>\n",
       "      <td>NaN</td>\n",
       "      <td>NaN</td>\n",
       "      <td>NaN</td>\n",
       "      <td>NaN</td>\n",
       "      <td>NaN</td>\n",
       "    </tr>\n",
       "    <tr>\n",
       "      <th>Nascimento</th>\n",
       "      <td>1070</td>\n",
       "      <td>959</td>\n",
       "      <td>22-Aug-1975 (34y)</td>\n",
       "      <td>5</td>\n",
       "      <td>NaN</td>\n",
       "      <td>NaN</td>\n",
       "      <td>NaN</td>\n",
       "      <td>NaN</td>\n",
       "      <td>NaN</td>\n",
       "      <td>NaN</td>\n",
       "      <td>NaN</td>\n",
       "    </tr>\n",
       "    <tr>\n",
       "      <th>Idade</th>\n",
       "      <td>1070</td>\n",
       "      <td>NaN</td>\n",
       "      <td>NaN</td>\n",
       "      <td>NaN</td>\n",
       "      <td>38.6037</td>\n",
       "      <td>15.1808</td>\n",
       "      <td>0</td>\n",
       "      <td>26</td>\n",
       "      <td>35</td>\n",
       "      <td>50.75</td>\n",
       "      <td>84</td>\n",
       "    </tr>\n",
       "    <tr>\n",
       "      <th>Sexo</th>\n",
       "      <td>1070</td>\n",
       "      <td>2</td>\n",
       "      <td>F</td>\n",
       "      <td>656</td>\n",
       "      <td>NaN</td>\n",
       "      <td>NaN</td>\n",
       "      <td>NaN</td>\n",
       "      <td>NaN</td>\n",
       "      <td>NaN</td>\n",
       "      <td>NaN</td>\n",
       "      <td>NaN</td>\n",
       "    </tr>\n",
       "    <tr>\n",
       "      <th>Data Aquisição</th>\n",
       "      <td>1070</td>\n",
       "      <td>1036</td>\n",
       "      <td>12May2012-150358</td>\n",
       "      <td>2</td>\n",
       "      <td>NaN</td>\n",
       "      <td>NaN</td>\n",
       "      <td>NaN</td>\n",
       "      <td>NaN</td>\n",
       "      <td>NaN</td>\n",
       "      <td>NaN</td>\n",
       "      <td>NaN</td>\n",
       "    </tr>\n",
       "    <tr>\n",
       "      <th>Filename</th>\n",
       "      <td>1070</td>\n",
       "      <td>1070</td>\n",
       "      <td>BRUNO_CAMPOS_03Jan2012-145256_VBM_6min.nii</td>\n",
       "      <td>1</td>\n",
       "      <td>NaN</td>\n",
       "      <td>NaN</td>\n",
       "      <td>NaN</td>\n",
       "      <td>NaN</td>\n",
       "      <td>NaN</td>\n",
       "      <td>NaN</td>\n",
       "      <td>NaN</td>\n",
       "    </tr>\n",
       "    <tr>\n",
       "      <th></th>\n",
       "      <td>1070</td>\n",
       "      <td>602</td>\n",
       "      <td>DESCARTADA</td>\n",
       "      <td>366</td>\n",
       "      <td>NaN</td>\n",
       "      <td>NaN</td>\n",
       "      <td>NaN</td>\n",
       "      <td>NaN</td>\n",
       "      <td>NaN</td>\n",
       "      <td>NaN</td>\n",
       "      <td>NaN</td>\n",
       "    </tr>\n",
       "    <tr>\n",
       "      <th>Unnamed: 8</th>\n",
       "      <td>1070</td>\n",
       "      <td>42</td>\n",
       "      <td>0</td>\n",
       "      <td>627</td>\n",
       "      <td>NaN</td>\n",
       "      <td>NaN</td>\n",
       "      <td>NaN</td>\n",
       "      <td>NaN</td>\n",
       "      <td>NaN</td>\n",
       "      <td>NaN</td>\n",
       "      <td>NaN</td>\n",
       "    </tr>\n",
       "    <tr>\n",
       "      <th>Unnamed: 9</th>\n",
       "      <td>1070</td>\n",
       "      <td>15</td>\n",
       "      <td>0</td>\n",
       "      <td>1054</td>\n",
       "      <td>NaN</td>\n",
       "      <td>NaN</td>\n",
       "      <td>NaN</td>\n",
       "      <td>NaN</td>\n",
       "      <td>NaN</td>\n",
       "      <td>NaN</td>\n",
       "      <td>NaN</td>\n",
       "    </tr>\n",
       "    <tr>\n",
       "      <th>selecionado</th>\n",
       "      <td>1070</td>\n",
       "      <td>NaN</td>\n",
       "      <td>NaN</td>\n",
       "      <td>NaN</td>\n",
       "      <td>0.556075</td>\n",
       "      <td>0.497078</td>\n",
       "      <td>0</td>\n",
       "      <td>0</td>\n",
       "      <td>1</td>\n",
       "      <td>1</td>\n",
       "      <td>1</td>\n",
       "    </tr>\n",
       "  </tbody>\n",
       "</table>\n",
       "</div>"
      ],
      "text/plain": [
       "               count unique                                         top  freq  \\\n",
       "Nome            1070    849                     SONIA NEVES ROMEU SILVA     6   \n",
       "HC              1070    922                                           3    11   \n",
       "Nascimento      1070    959                           22-Aug-1975 (34y)     5   \n",
       "Idade           1070    NaN                                         NaN   NaN   \n",
       "Sexo            1070      2                                           F   656   \n",
       "Data Aquisição  1070   1036                            12May2012-150358     2   \n",
       "Filename        1070   1070  BRUNO_CAMPOS_03Jan2012-145256_VBM_6min.nii     1   \n",
       "                1070    602                                  DESCARTADA   366   \n",
       "Unnamed: 8      1070     42                                           0   627   \n",
       "Unnamed: 9      1070     15                                           0  1054   \n",
       "selecionado     1070    NaN                                         NaN   NaN   \n",
       "\n",
       "                    mean       std  min  25%  50%    75%  max  \n",
       "Nome                 NaN       NaN  NaN  NaN  NaN    NaN  NaN  \n",
       "HC                   NaN       NaN  NaN  NaN  NaN    NaN  NaN  \n",
       "Nascimento           NaN       NaN  NaN  NaN  NaN    NaN  NaN  \n",
       "Idade            38.6037   15.1808    0   26   35  50.75   84  \n",
       "Sexo                 NaN       NaN  NaN  NaN  NaN    NaN  NaN  \n",
       "Data Aquisição       NaN       NaN  NaN  NaN  NaN    NaN  NaN  \n",
       "Filename             NaN       NaN  NaN  NaN  NaN    NaN  NaN  \n",
       "                     NaN       NaN  NaN  NaN  NaN    NaN  NaN  \n",
       "Unnamed: 8           NaN       NaN  NaN  NaN  NaN    NaN  NaN  \n",
       "Unnamed: 9           NaN       NaN  NaN  NaN  NaN    NaN  NaN  \n",
       "selecionado     0.556075  0.497078    0    0    1      1    1  "
      ]
     },
     "execution_count": 7,
     "metadata": {},
     "output_type": "execute_result"
    }
   ],
   "source": [
    "df.describe(include='all').transpose()"
   ]
  },
  {
   "cell_type": "code",
   "execution_count": 8,
   "metadata": {},
   "outputs": [
    {
     "data": {
      "text/html": [
       "<div>\n",
       "<style scoped>\n",
       "    .dataframe tbody tr th:only-of-type {\n",
       "        vertical-align: middle;\n",
       "    }\n",
       "\n",
       "    .dataframe tbody tr th {\n",
       "        vertical-align: top;\n",
       "    }\n",
       "\n",
       "    .dataframe thead th {\n",
       "        text-align: right;\n",
       "    }\n",
       "</style>\n",
       "<table border=\"1\" class=\"dataframe\">\n",
       "  <thead>\n",
       "    <tr style=\"text-align: right;\">\n",
       "      <th></th>\n",
       "      <th>Nome</th>\n",
       "      <th>HC</th>\n",
       "      <th>Nascimento</th>\n",
       "      <th>Idade</th>\n",
       "      <th>Sexo</th>\n",
       "      <th>Data Aquisição</th>\n",
       "      <th>Filename</th>\n",
       "      <th></th>\n",
       "      <th>Unnamed: 8</th>\n",
       "      <th>Unnamed: 9</th>\n",
       "      <th>selecionado</th>\n",
       "    </tr>\n",
       "  </thead>\n",
       "  <tbody>\n",
       "    <tr>\n",
       "      <th>0</th>\n",
       "      <td>INGRID FABER DE VASCONCELLOS</td>\n",
       "      <td>11537072</td>\n",
       "      <td>07-Mar-2013 (0y)</td>\n",
       "      <td>0</td>\n",
       "      <td>F</td>\n",
       "      <td>07Mar2013-165045</td>\n",
       "      <td>INGRID_FABER_DE_VASCONCELLOS_07Mar2013-165045_...</td>\n",
       "      <td>c0255</td>\n",
       "      <td>0</td>\n",
       "      <td>0</td>\n",
       "      <td>1.0</td>\n",
       "    </tr>\n",
       "    <tr>\n",
       "      <th>1</th>\n",
       "      <td>NICOLAS SANTIAGO ROSA DE SOUZA</td>\n",
       "      <td>2017010701</td>\n",
       "      <td>07-Jul-2011 (6y)</td>\n",
       "      <td>6</td>\n",
       "      <td>M</td>\n",
       "      <td>07Jan2017-080514</td>\n",
       "      <td>NICOLAS_SANTIAGO_ROSA_DE_SOUZA_07Jan2017-08051...</td>\n",
       "      <td>NAO FAZER</td>\n",
       "      <td>0</td>\n",
       "      <td>0</td>\n",
       "      <td>0.0</td>\n",
       "    </tr>\n",
       "  </tbody>\n",
       "</table>\n",
       "</div>"
      ],
      "text/plain": [
       "                             Nome          HC        Nascimento  Idade Sexo  \\\n",
       "0    INGRID FABER DE VASCONCELLOS    11537072  07-Mar-2013 (0y)      0    F   \n",
       "1  NICOLAS SANTIAGO ROSA DE SOUZA  2017010701  07-Jul-2011 (6y)      6    M   \n",
       "\n",
       "     Data Aquisição                                           Filename  \\\n",
       "0  07Mar2013-165045  INGRID_FABER_DE_VASCONCELLOS_07Mar2013-165045_...   \n",
       "1  07Jan2017-080514  NICOLAS_SANTIAGO_ROSA_DE_SOUZA_07Jan2017-08051...   \n",
       "\n",
       "             Unnamed: 8 Unnamed: 9  selecionado  \n",
       "0      c0255          0          0          1.0  \n",
       "1  NAO FAZER          0          0          0.0  "
      ]
     },
     "execution_count": 8,
     "metadata": {},
     "output_type": "execute_result"
    }
   ],
   "source": [
    "df.head(2)"
   ]
  },
  {
   "cell_type": "code",
   "execution_count": 9,
   "metadata": {},
   "outputs": [
    {
     "data": {
      "text/plain": [
       "Index(['Nome', 'HC', 'Nascimento', 'Idade', 'Sexo', 'Data Aquisição',\n",
       "       'Filename', ' ', 'Unnamed: 8', 'Unnamed: 9', 'selecionado'],\n",
       "      dtype='object')"
      ]
     },
     "execution_count": 9,
     "metadata": {},
     "output_type": "execute_result"
    }
   ],
   "source": [
    "df.columns"
   ]
  },
  {
   "cell_type": "code",
   "execution_count": 10,
   "metadata": {},
   "outputs": [],
   "source": [
    "df.loc[553, 'selecionado'] = 1.0"
   ]
  },
  {
   "cell_type": "code",
   "execution_count": null,
   "metadata": {},
   "outputs": [],
   "source": []
  },
  {
   "cell_type": "code",
   "execution_count": null,
   "metadata": {},
   "outputs": [],
   "source": []
  },
  {
   "cell_type": "code",
   "execution_count": 11,
   "metadata": {},
   "outputs": [],
   "source": [
    "bins = [0,9,15,20,30,40,50,60,70,80,90]\n",
    "labels=['0-9','10-15','16-20','21-30','31-40','41-50','51-60','61-70','71-80','81-90']"
   ]
  },
  {
   "cell_type": "code",
   "execution_count": 12,
   "metadata": {},
   "outputs": [],
   "source": [
    "df['bins'] = pd.cut(df['Idade'], bins=bins, labels=labels, include_lowest=True)"
   ]
  },
  {
   "cell_type": "code",
   "execution_count": 13,
   "metadata": {},
   "outputs": [],
   "source": [
    "df = df.sort_values(by='bins', ascending=True)"
   ]
  },
  {
   "cell_type": "code",
   "execution_count": 16,
   "metadata": {},
   "outputs": [],
   "source": [
    "df.to_excel('demographic.xlsx',index=False,encoding='utf-8')"
   ]
  },
  {
   "cell_type": "code",
   "execution_count": null,
   "metadata": {},
   "outputs": [],
   "source": []
  },
  {
   "cell_type": "code",
   "execution_count": null,
   "metadata": {},
   "outputs": [],
   "source": []
  },
  {
   "cell_type": "code",
   "execution_count": null,
   "metadata": {},
   "outputs": [],
   "source": []
  },
  {
   "cell_type": "markdown",
   "metadata": {},
   "source": [
    "# Total"
   ]
  },
  {
   "cell_type": "code",
   "execution_count": 14,
   "metadata": {},
   "outputs": [
    {
     "data": {
      "text/html": [
       "<div>\n",
       "<style scoped>\n",
       "    .dataframe tbody tr th:only-of-type {\n",
       "        vertical-align: middle;\n",
       "    }\n",
       "\n",
       "    .dataframe tbody tr th {\n",
       "        vertical-align: top;\n",
       "    }\n",
       "\n",
       "    .dataframe thead th {\n",
       "        text-align: right;\n",
       "    }\n",
       "</style>\n",
       "<table border=\"1\" class=\"dataframe\">\n",
       "  <thead>\n",
       "    <tr style=\"text-align: right;\">\n",
       "      <th></th>\n",
       "      <th>bins</th>\n",
       "    </tr>\n",
       "  </thead>\n",
       "  <tbody>\n",
       "    <tr>\n",
       "      <th>0-9</th>\n",
       "      <td>6</td>\n",
       "    </tr>\n",
       "    <tr>\n",
       "      <th>10-15</th>\n",
       "      <td>20</td>\n",
       "    </tr>\n",
       "    <tr>\n",
       "      <th>16-20</th>\n",
       "      <td>42</td>\n",
       "    </tr>\n",
       "    <tr>\n",
       "      <th>21-30</th>\n",
       "      <td>346</td>\n",
       "    </tr>\n",
       "    <tr>\n",
       "      <th>31-40</th>\n",
       "      <td>214</td>\n",
       "    </tr>\n",
       "    <tr>\n",
       "      <th>41-50</th>\n",
       "      <td>174</td>\n",
       "    </tr>\n",
       "    <tr>\n",
       "      <th>51-60</th>\n",
       "      <td>168</td>\n",
       "    </tr>\n",
       "    <tr>\n",
       "      <th>61-70</th>\n",
       "      <td>76</td>\n",
       "    </tr>\n",
       "    <tr>\n",
       "      <th>71-80</th>\n",
       "      <td>18</td>\n",
       "    </tr>\n",
       "    <tr>\n",
       "      <th>81-90</th>\n",
       "      <td>6</td>\n",
       "    </tr>\n",
       "  </tbody>\n",
       "</table>\n",
       "</div>"
      ],
      "text/plain": [
       "       bins\n",
       "0-9       6\n",
       "10-15    20\n",
       "16-20    42\n",
       "21-30   346\n",
       "31-40   214\n",
       "41-50   174\n",
       "51-60   168\n",
       "61-70    76\n",
       "71-80    18\n",
       "81-90     6"
      ]
     },
     "execution_count": 14,
     "metadata": {},
     "output_type": "execute_result"
    }
   ],
   "source": [
    "#total\n",
    "t = pd.DataFrame(df['bins'].value_counts())\n",
    "t.sort_index()"
   ]
  },
  {
   "cell_type": "code",
   "execution_count": 15,
   "metadata": {},
   "outputs": [],
   "source": [
    "#homem\n",
    "mask = (df['Sexo']=='M')\n",
    "h_s = pd.DataFrame(df[mask]['bins'].value_counts())\n",
    "h_s = h_s.sort_index()\n",
    "x_h = list(h_s.index) \n",
    "y_h = list(h_s['bins'])"
   ]
  },
  {
   "cell_type": "code",
   "execution_count": 16,
   "metadata": {},
   "outputs": [],
   "source": [
    "#mulher\n",
    "mask = (df['Sexo']=='F')\n",
    "m_s = pd.DataFrame(df[mask]['bins'].value_counts())\n",
    "m_s = m_s.sort_index()\n",
    "x_m = list(m_s.index) \n",
    "y_m = list(m_s['bins'])"
   ]
  },
  {
   "cell_type": "code",
   "execution_count": 17,
   "metadata": {},
   "outputs": [
    {
     "data": {
      "application/vnd.plotly.v1+json": {
       "config": {
        "linkText": "Export to plot.ly",
        "plotlyServerURL": "https://plot.ly",
        "showLink": false
       },
       "data": [
        {
         "name": "F",
         "text": [
          "2",
          "8",
          "28",
          "206",
          "128",
          "116",
          "110",
          "43",
          "12",
          "3"
         ],
         "textposition": "auto",
         "type": "bar",
         "uid": "4cba6a8d-da3c-4a7c-a6f4-278604a9a59c",
         "x": [
          "0-9",
          "10-15",
          "16-20",
          "21-30",
          "31-40",
          "41-50",
          "51-60",
          "61-70",
          "71-80",
          "81-90"
         ],
         "y": [
          2,
          8,
          28,
          206,
          128,
          116,
          110,
          43,
          12,
          3
         ]
        },
        {
         "name": "M",
         "text": [
          "4",
          "12",
          "14",
          "140",
          "86",
          "58",
          "58",
          "33",
          "6",
          "3"
         ],
         "textposition": "auto",
         "type": "bar",
         "uid": "c041a30e-ce62-4969-87b0-828ef60f774d",
         "x": [
          "0-9",
          "10-15",
          "16-20",
          "21-30",
          "31-40",
          "41-50",
          "51-60",
          "61-70",
          "71-80",
          "81-90"
         ],
         "y": [
          4,
          12,
          14,
          140,
          86,
          58,
          58,
          33,
          6,
          3
         ]
        }
       ],
       "layout": {
        "barmode": "stack",
        "height": 858,
        "title": {
         "text": "Total"
        },
        "width": 1272,
        "xaxis": {
         "autorange": true,
         "range": [
          -0.5,
          9.5
         ],
         "type": "category"
        },
        "yaxis": {
         "autorange": true,
         "range": [
          0,
          364.2105263157895
         ],
         "type": "linear"
        }
       }
      },
      "image/png": "[encoded data removed]",
      "text/html": [
       "<div id=\"39168773-92b7-4950-aba0-5e5be6e9ab41\" style=\"height: 858.0px; width: 1272.0px;\" class=\"plotly-graph-div\"></div><script type=\"text/javascript\">require([\"plotly\"], function(Plotly) { window.PLOTLYENV=window.PLOTLYENV || {};window.PLOTLYENV.BASE_URL=\"https://plot.ly\";Plotly.newPlot(\"39168773-92b7-4950-aba0-5e5be6e9ab41\", [{\"name\": \"F\", \"text\": [\"2\", \"8\", \"28\", \"206\", \"128\", \"116\", \"110\", \"43\", \"12\", \"3\"], \"textposition\": \"auto\", \"x\": [\"0-9\", \"10-15\", \"16-20\", \"21-30\", \"31-40\", \"41-50\", \"51-60\", \"61-70\", \"71-80\", \"81-90\"], \"y\": [2, 8, 28, 206, 128, 116, 110, 43, 12, 3], \"type\": \"bar\", \"uid\": \"4cba6a8d-da3c-4a7c-a6f4-278604a9a59c\"}, {\"name\": \"M\", \"text\": [\"4\", \"12\", \"14\", \"140\", \"86\", \"58\", \"58\", \"33\", \"6\", \"3\"], \"textposition\": \"auto\", \"x\": [\"0-9\", \"10-15\", \"16-20\", \"21-30\", \"31-40\", \"41-50\", \"51-60\", \"61-70\", \"71-80\", \"81-90\"], \"y\": [4, 12, 14, 140, 86, 58, 58, 33, 6, 3], \"type\": \"bar\", \"uid\": \"c041a30e-ce62-4969-87b0-828ef60f774d\"}], {\"barmode\": \"stack\", \"height\": 858.0, \"title\": {\"text\": \"Total\"}, \"width\": 1272.0}, {\"showLink\": false, \"linkText\": \"Export to plot.ly\", \"plotlyServerURL\": \"https://plot.ly\"})});</script>"
      ],
      "text/vnd.plotly.v1+html": [
       "<div id=\"39168773-92b7-4950-aba0-5e5be6e9ab41\" style=\"height: 858.0px; width: 1272.0px;\" class=\"plotly-graph-div\"></div><script type=\"text/javascript\">require([\"plotly\"], function(Plotly) { window.PLOTLYENV=window.PLOTLYENV || {};window.PLOTLYENV.BASE_URL=\"https://plot.ly\";Plotly.newPlot(\"39168773-92b7-4950-aba0-5e5be6e9ab41\", [{\"name\": \"F\", \"text\": [\"2\", \"8\", \"28\", \"206\", \"128\", \"116\", \"110\", \"43\", \"12\", \"3\"], \"textposition\": \"auto\", \"x\": [\"0-9\", \"10-15\", \"16-20\", \"21-30\", \"31-40\", \"41-50\", \"51-60\", \"61-70\", \"71-80\", \"81-90\"], \"y\": [2, 8, 28, 206, 128, 116, 110, 43, 12, 3], \"type\": \"bar\", \"uid\": \"4cba6a8d-da3c-4a7c-a6f4-278604a9a59c\"}, {\"name\": \"M\", \"text\": [\"4\", \"12\", \"14\", \"140\", \"86\", \"58\", \"58\", \"33\", \"6\", \"3\"], \"textposition\": \"auto\", \"x\": [\"0-9\", \"10-15\", \"16-20\", \"21-30\", \"31-40\", \"41-50\", \"51-60\", \"61-70\", \"71-80\", \"81-90\"], \"y\": [4, 12, 14, 140, 86, 58, 58, 33, 6, 3], \"type\": \"bar\", \"uid\": \"c041a30e-ce62-4969-87b0-828ef60f774d\"}], {\"barmode\": \"stack\", \"height\": 858.0, \"title\": {\"text\": \"Total\"}, \"width\": 1272.0}, {\"showLink\": false, \"linkText\": \"Export to plot.ly\", \"plotlyServerURL\": \"https://plot.ly\"})});</script>"
      ]
     },
     "metadata": {},
     "output_type": "display_data"
    }
   ],
   "source": [
    "stack_bar(x_m,y_m,x_h,y_h,'Total')"
   ]
  },
  {
   "cell_type": "code",
   "execution_count": null,
   "metadata": {},
   "outputs": [],
   "source": []
  },
  {
   "cell_type": "markdown",
   "metadata": {},
   "source": [
    "# Não Selecionados.\n",
    "    Divisão entre H e M"
   ]
  },
  {
   "cell_type": "code",
   "execution_count": 18,
   "metadata": {},
   "outputs": [
    {
     "data": {
      "text/plain": [
       "21-30    161\n",
       "31-40     90\n",
       "41-50     76\n",
       "51-60     75\n",
       "61-70     32\n",
       "16-20     13\n",
       "71-80     10\n",
       "10-15      9\n",
       "0-9        5\n",
       "81-90      3\n",
       "Name: bins, dtype: int64"
      ]
     },
     "execution_count": 18,
     "metadata": {},
     "output_type": "execute_result"
    }
   ],
   "source": [
    "#não selecionado\n",
    "df[df['selecionado']==0]['bins'].value_counts()"
   ]
  },
  {
   "cell_type": "code",
   "execution_count": 19,
   "metadata": {},
   "outputs": [],
   "source": [
    "#homem\n",
    "mask = (df['selecionado']==0) & (df['Sexo']=='M')\n",
    "h_s = pd.DataFrame(df[mask]['bins'].value_counts())\n",
    "h_s = h_s.sort_index()\n",
    "x_h = list(h_s.index) \n",
    "y_h = list(h_s['bins'])"
   ]
  },
  {
   "cell_type": "code",
   "execution_count": 20,
   "metadata": {},
   "outputs": [],
   "source": [
    "#mulher\n",
    "mask = (df['selecionado']==0) & (df['Sexo']=='F')\n",
    "m_s = pd.DataFrame(df[mask]['bins'].value_counts())\n",
    "m_s = m_s.sort_index()\n",
    "x_m = list(m_s.index) \n",
    "y_m = list(m_s['bins'])"
   ]
  },
  {
   "cell_type": "code",
   "execution_count": 21,
   "metadata": {},
   "outputs": [
    {
     "data": {
      "application/vnd.plotly.v1+json": {
       "config": {
        "linkText": "Export to plot.ly",
        "plotlyServerURL": "https://plot.ly",
        "showLink": false
       },
       "data": [
        {
         "name": "F",
         "text": [
          "1",
          "2",
          "9",
          "106",
          "51",
          "49",
          "49",
          "16",
          "6",
          "1"
         ],
         "textposition": "auto",
         "type": "bar",
         "uid": "d6dae898-b07c-405b-9648-5e46c4439551",
         "x": [
          "0-9",
          "10-15",
          "16-20",
          "21-30",
          "31-40",
          "41-50",
          "51-60",
          "61-70",
          "71-80",
          "81-90"
         ],
         "y": [
          1,
          2,
          9,
          106,
          51,
          49,
          49,
          16,
          6,
          1
         ]
        },
        {
         "name": "M",
         "text": [
          "4",
          "7",
          "4",
          "55",
          "39",
          "27",
          "26",
          "16",
          "4",
          "2"
         ],
         "textposition": "auto",
         "type": "bar",
         "uid": "87d8ce56-981b-4d7f-a888-991e4e6f896c",
         "x": [
          "0-9",
          "10-15",
          "16-20",
          "21-30",
          "31-40",
          "41-50",
          "51-60",
          "61-70",
          "71-80",
          "81-90"
         ],
         "y": [
          4,
          7,
          4,
          55,
          39,
          27,
          26,
          16,
          4,
          2
         ]
        }
       ],
       "layout": {
        "barmode": "stack",
        "height": 858,
        "title": {
         "text": "Não Selecionado"
        },
        "width": 1272,
        "xaxis": {
         "autorange": true,
         "range": [
          -0.5,
          9.5
         ],
         "type": "category"
        },
        "yaxis": {
         "autorange": true,
         "range": [
          0,
          169.4736842105263
         ],
         "type": "linear"
        }
       }
      },
      "image/png": "[encoded data removed]",
      "text/html": [
       "<div id=\"7a3cd4e6-eb93-4faf-bab3-798614187a91\" style=\"height: 858.0px; width: 1272.0px;\" class=\"plotly-graph-div\"></div><script type=\"text/javascript\">require([\"plotly\"], function(Plotly) { window.PLOTLYENV=window.PLOTLYENV || {};window.PLOTLYENV.BASE_URL=\"https://plot.ly\";Plotly.newPlot(\"7a3cd4e6-eb93-4faf-bab3-798614187a91\", [{\"name\": \"F\", \"text\": [\"1\", \"2\", \"9\", \"106\", \"51\", \"49\", \"49\", \"16\", \"6\", \"1\"], \"textposition\": \"auto\", \"x\": [\"0-9\", \"10-15\", \"16-20\", \"21-30\", \"31-40\", \"41-50\", \"51-60\", \"61-70\", \"71-80\", \"81-90\"], \"y\": [1, 2, 9, 106, 51, 49, 49, 16, 6, 1], \"type\": \"bar\", \"uid\": \"d6dae898-b07c-405b-9648-5e46c4439551\"}, {\"name\": \"M\", \"text\": [\"4\", \"7\", \"4\", \"55\", \"39\", \"27\", \"26\", \"16\", \"4\", \"2\"], \"textposition\": \"auto\", \"x\": [\"0-9\", \"10-15\", \"16-20\", \"21-30\", \"31-40\", \"41-50\", \"51-60\", \"61-70\", \"71-80\", \"81-90\"], \"y\": [4, 7, 4, 55, 39, 27, 26, 16, 4, 2], \"type\": \"bar\", \"uid\": \"87d8ce56-981b-4d7f-a888-991e4e6f896c\"}], {\"barmode\": \"stack\", \"height\": 858.0, \"title\": {\"text\": \"N\\u00e3o Selecionado\"}, \"width\": 1272.0}, {\"showLink\": false, \"linkText\": \"Export to plot.ly\", \"plotlyServerURL\": \"https://plot.ly\"})});</script>"
      ],
      "text/vnd.plotly.v1+html": [
       "<div id=\"7a3cd4e6-eb93-4faf-bab3-798614187a91\" style=\"height: 858.0px; width: 1272.0px;\" class=\"plotly-graph-div\"></div><script type=\"text/javascript\">require([\"plotly\"], function(Plotly) { window.PLOTLYENV=window.PLOTLYENV || {};window.PLOTLYENV.BASE_URL=\"https://plot.ly\";Plotly.newPlot(\"7a3cd4e6-eb93-4faf-bab3-798614187a91\", [{\"name\": \"F\", \"text\": [\"1\", \"2\", \"9\", \"106\", \"51\", \"49\", \"49\", \"16\", \"6\", \"1\"], \"textposition\": \"auto\", \"x\": [\"0-9\", \"10-15\", \"16-20\", \"21-30\", \"31-40\", \"41-50\", \"51-60\", \"61-70\", \"71-80\", \"81-90\"], \"y\": [1, 2, 9, 106, 51, 49, 49, 16, 6, 1], \"type\": \"bar\", \"uid\": \"d6dae898-b07c-405b-9648-5e46c4439551\"}, {\"name\": \"M\", \"text\": [\"4\", \"7\", \"4\", \"55\", \"39\", \"27\", \"26\", \"16\", \"4\", \"2\"], \"textposition\": \"auto\", \"x\": [\"0-9\", \"10-15\", \"16-20\", \"21-30\", \"31-40\", \"41-50\", \"51-60\", \"61-70\", \"71-80\", \"81-90\"], \"y\": [4, 7, 4, 55, 39, 27, 26, 16, 4, 2], \"type\": \"bar\", \"uid\": \"87d8ce56-981b-4d7f-a888-991e4e6f896c\"}], {\"barmode\": \"stack\", \"height\": 858.0, \"title\": {\"text\": \"N\\u00e3o Selecionado\"}, \"width\": 1272.0}, {\"showLink\": false, \"linkText\": \"Export to plot.ly\", \"plotlyServerURL\": \"https://plot.ly\"})});</script>"
      ]
     },
     "metadata": {},
     "output_type": "display_data"
    }
   ],
   "source": [
    "stack_bar(x_m,y_m,x_h,y_h,'Não Selecionado')"
   ]
  },
  {
   "cell_type": "code",
   "execution_count": null,
   "metadata": {},
   "outputs": [],
   "source": []
  },
  {
   "cell_type": "markdown",
   "metadata": {},
   "source": [
    "# Selecionados"
   ]
  },
  {
   "cell_type": "code",
   "execution_count": 22,
   "metadata": {},
   "outputs": [
    {
     "data": {
      "text/plain": [
       "21-30    185\n",
       "31-40    124\n",
       "41-50     98\n",
       "51-60     93\n",
       "61-70     44\n",
       "16-20     29\n",
       "10-15     11\n",
       "71-80      8\n",
       "81-90      3\n",
       "0-9        1\n",
       "Name: bins, dtype: int64"
      ]
     },
     "execution_count": 22,
     "metadata": {},
     "output_type": "execute_result"
    }
   ],
   "source": [
    "#selecionado\n",
    "df[df['selecionado']==1]['bins'].value_counts()"
   ]
  },
  {
   "cell_type": "code",
   "execution_count": null,
   "metadata": {},
   "outputs": [],
   "source": []
  },
  {
   "cell_type": "code",
   "execution_count": 23,
   "metadata": {},
   "outputs": [],
   "source": [
    "#homem\n",
    "mask = (df['selecionado']==1) & (df['Sexo']=='M')\n",
    "h_s = pd.DataFrame(df[mask]['bins'].value_counts())\n",
    "h_s = h_s.sort_index()\n",
    "x_h = list(h_s.index) \n",
    "y_h = list(h_s['bins'])"
   ]
  },
  {
   "cell_type": "code",
   "execution_count": 24,
   "metadata": {},
   "outputs": [],
   "source": [
    "#mulher\n",
    "mask = (df['selecionado']==1) & (df['Sexo']=='F')\n",
    "m_s = pd.DataFrame(df[mask]['bins'].value_counts())\n",
    "m_s = m_s.sort_index()\n",
    "x_m = list(m_s.index) \n",
    "y_m = list(m_s['bins'])"
   ]
  },
  {
   "cell_type": "code",
   "execution_count": 25,
   "metadata": {},
   "outputs": [
    {
     "data": {
      "application/vnd.plotly.v1+json": {
       "config": {
        "linkText": "Export to plot.ly",
        "plotlyServerURL": "https://plot.ly",
        "showLink": false
       },
       "data": [
        {
         "name": "F",
         "text": [
          "1",
          "6",
          "19",
          "100",
          "77",
          "67",
          "61",
          "27",
          "6",
          "2"
         ],
         "textposition": "auto",
         "type": "bar",
         "uid": "b88559bf-acb5-469f-b38e-9b991174e847",
         "x": [
          "0-9",
          "10-15",
          "16-20",
          "21-30",
          "31-40",
          "41-50",
          "51-60",
          "61-70",
          "71-80",
          "81-90"
         ],
         "y": [
          1,
          6,
          19,
          100,
          77,
          67,
          61,
          27,
          6,
          2
         ]
        },
        {
         "name": "M",
         "text": [
          "0",
          "5",
          "10",
          "85",
          "47",
          "31",
          "32",
          "17",
          "2",
          "1"
         ],
         "textposition": "auto",
         "type": "bar",
         "uid": "aa981ad2-7a58-4ce8-bd32-ecc33eb64711",
         "x": [
          "0-9",
          "10-15",
          "16-20",
          "21-30",
          "31-40",
          "41-50",
          "51-60",
          "61-70",
          "71-80",
          "81-90"
         ],
         "y": [
          0,
          5,
          10,
          85,
          47,
          31,
          32,
          17,
          2,
          1
         ]
        }
       ],
       "layout": {
        "barmode": "stack",
        "height": 858,
        "title": {
         "text": "selecionado"
        },
        "width": 1272,
        "xaxis": {
         "autorange": true,
         "range": [
          -0.5,
          9.5
         ],
         "type": "category"
        },
        "yaxis": {
         "autorange": true,
         "range": [
          0,
          194.73684210526315
         ],
         "type": "linear"
        }
       }
      },
      "image/png": "[encoded data removed]",
      "text/html": [
       "<div id=\"05b630ca-1a8c-4ad1-9edb-eafebd4464da\" style=\"height: 858.0px; width: 1272.0px;\" class=\"plotly-graph-div\"></div><script type=\"text/javascript\">require([\"plotly\"], function(Plotly) { window.PLOTLYENV=window.PLOTLYENV || {};window.PLOTLYENV.BASE_URL=\"https://plot.ly\";Plotly.newPlot(\"05b630ca-1a8c-4ad1-9edb-eafebd4464da\", [{\"name\": \"F\", \"text\": [\"1\", \"6\", \"19\", \"100\", \"77\", \"67\", \"61\", \"27\", \"6\", \"2\"], \"textposition\": \"auto\", \"x\": [\"0-9\", \"10-15\", \"16-20\", \"21-30\", \"31-40\", \"41-50\", \"51-60\", \"61-70\", \"71-80\", \"81-90\"], \"y\": [1, 6, 19, 100, 77, 67, 61, 27, 6, 2], \"type\": \"bar\", \"uid\": \"b88559bf-acb5-469f-b38e-9b991174e847\"}, {\"name\": \"M\", \"text\": [\"0\", \"5\", \"10\", \"85\", \"47\", \"31\", \"32\", \"17\", \"2\", \"1\"], \"textposition\": \"auto\", \"x\": [\"0-9\", \"10-15\", \"16-20\", \"21-30\", \"31-40\", \"41-50\", \"51-60\", \"61-70\", \"71-80\", \"81-90\"], \"y\": [0, 5, 10, 85, 47, 31, 32, 17, 2, 1], \"type\": \"bar\", \"uid\": \"aa981ad2-7a58-4ce8-bd32-ecc33eb64711\"}], {\"barmode\": \"stack\", \"height\": 858.0, \"title\": {\"text\": \"selecionado\"}, \"width\": 1272.0}, {\"showLink\": false, \"linkText\": \"Export to plot.ly\", \"plotlyServerURL\": \"https://plot.ly\"})});</script>"
      ],
      "text/vnd.plotly.v1+html": [
       "<div id=\"05b630ca-1a8c-4ad1-9edb-eafebd4464da\" style=\"height: 858.0px; width: 1272.0px;\" class=\"plotly-graph-div\"></div><script type=\"text/javascript\">require([\"plotly\"], function(Plotly) { window.PLOTLYENV=window.PLOTLYENV || {};window.PLOTLYENV.BASE_URL=\"https://plot.ly\";Plotly.newPlot(\"05b630ca-1a8c-4ad1-9edb-eafebd4464da\", [{\"name\": \"F\", \"text\": [\"1\", \"6\", \"19\", \"100\", \"77\", \"67\", \"61\", \"27\", \"6\", \"2\"], \"textposition\": \"auto\", \"x\": [\"0-9\", \"10-15\", \"16-20\", \"21-30\", \"31-40\", \"41-50\", \"51-60\", \"61-70\", \"71-80\", \"81-90\"], \"y\": [1, 6, 19, 100, 77, 67, 61, 27, 6, 2], \"type\": \"bar\", \"uid\": \"b88559bf-acb5-469f-b38e-9b991174e847\"}, {\"name\": \"M\", \"text\": [\"0\", \"5\", \"10\", \"85\", \"47\", \"31\", \"32\", \"17\", \"2\", \"1\"], \"textposition\": \"auto\", \"x\": [\"0-9\", \"10-15\", \"16-20\", \"21-30\", \"31-40\", \"41-50\", \"51-60\", \"61-70\", \"71-80\", \"81-90\"], \"y\": [0, 5, 10, 85, 47, 31, 32, 17, 2, 1], \"type\": \"bar\", \"uid\": \"aa981ad2-7a58-4ce8-bd32-ecc33eb64711\"}], {\"barmode\": \"stack\", \"height\": 858.0, \"title\": {\"text\": \"selecionado\"}, \"width\": 1272.0}, {\"showLink\": false, \"linkText\": \"Export to plot.ly\", \"plotlyServerURL\": \"https://plot.ly\"})});</script>"
      ]
     },
     "metadata": {},
     "output_type": "display_data"
    }
   ],
   "source": [
    "stack_bar(x_m,y_m,x_h,y_h,'selecionado')"
   ]
  },
  {
   "cell_type": "code",
   "execution_count": null,
   "metadata": {},
   "outputs": [],
   "source": []
  },
  {
   "cell_type": "code",
   "execution_count": null,
   "metadata": {},
   "outputs": [],
   "source": []
  },
  {
   "cell_type": "code",
   "execution_count": null,
   "metadata": {},
   "outputs": [],
   "source": []
  },
  {
   "cell_type": "code",
   "execution_count": 26,
   "metadata": {},
   "outputs": [],
   "source": [
    "#homem\n",
    "mask = (df['selecionado']==0) & (df['Sexo']=='M')\n",
    "h_s = pd.DataFrame(df[mask]['bins'].value_counts())\n",
    "h_s = h_s.sort_index()\n",
    "n_x_h = list(h_s.index) \n",
    "n_y_h = list(h_s['bins'])"
   ]
  },
  {
   "cell_type": "code",
   "execution_count": 27,
   "metadata": {},
   "outputs": [],
   "source": [
    "#mulher\n",
    "mask = (df['selecionado']==0) & (df['Sexo']=='F')\n",
    "m_s = pd.DataFrame(df[mask]['bins'].value_counts())\n",
    "m_s = m_s.sort_index()\n",
    "n_x_m = list(m_s.index) \n",
    "n_y_m = list(m_s['bins'])"
   ]
  },
  {
   "cell_type": "code",
   "execution_count": null,
   "metadata": {},
   "outputs": [],
   "source": []
  },
  {
   "cell_type": "code",
   "execution_count": null,
   "metadata": {},
   "outputs": [],
   "source": []
  },
  {
   "cell_type": "code",
   "execution_count": 28,
   "metadata": {},
   "outputs": [],
   "source": [
    "#homem\n",
    "mask = (df['selecionado']==1) & (df['Sexo']=='M')\n",
    "h_s = pd.DataFrame(df[mask]['bins'].value_counts())\n",
    "h_s = h_s.sort_index()\n",
    "s_x_h = list(h_s.index) \n",
    "s_y_h = list(h_s['bins'])"
   ]
  },
  {
   "cell_type": "code",
   "execution_count": 29,
   "metadata": {},
   "outputs": [],
   "source": [
    "#mulher\n",
    "mask = (df['selecionado']==1) & (df['Sexo']=='F')\n",
    "m_s = pd.DataFrame(df[mask]['bins'].value_counts())\n",
    "m_s = m_s.sort_index()\n",
    "s_x_m = list(m_s.index) \n",
    "s_y_m = list(m_s['bins'])"
   ]
  },
  {
   "cell_type": "code",
   "execution_count": null,
   "metadata": {},
   "outputs": [],
   "source": []
  },
  {
   "cell_type": "code",
   "execution_count": null,
   "metadata": {},
   "outputs": [],
   "source": []
  },
  {
   "cell_type": "code",
   "execution_count": null,
   "metadata": {},
   "outputs": [],
   "source": []
  },
  {
   "cell_type": "code",
   "execution_count": 31,
   "metadata": {},
   "outputs": [
    {
     "data": {
      "application/vnd.plotly.v1+json": {
       "config": {
        "linkText": "Export to plot.ly",
        "plotlyServerURL": "https://plot.ly",
        "showLink": false
       },
       "data": [
        {
         "name": "F - N/ Selecionado",
         "text": [
          "1",
          "2",
          "9",
          "106",
          "51",
          "49",
          "49",
          "16",
          "6",
          "1"
         ],
         "textposition": "auto",
         "type": "bar",
         "uid": "836b08ba-f165-4621-a1c1-93c40db796c9",
         "x": [
          "0-9",
          "10-15",
          "16-20",
          "21-30",
          "31-40",
          "41-50",
          "51-60",
          "61-70",
          "71-80",
          "81-90"
         ],
         "y": [
          1,
          2,
          9,
          106,
          51,
          49,
          49,
          16,
          6,
          1
         ]
        },
        {
         "name": "M - N/ Selecionado",
         "text": [
          "4",
          "7",
          "4",
          "55",
          "39",
          "27",
          "26",
          "16",
          "4",
          "2"
         ],
         "textposition": "auto",
         "type": "bar",
         "uid": "03d819fc-8050-42e0-85c4-7b41edd4122e",
         "x": [
          "0-9",
          "10-15",
          "16-20",
          "21-30",
          "31-40",
          "41-50",
          "51-60",
          "61-70",
          "71-80",
          "81-90"
         ],
         "y": [
          4,
          7,
          4,
          55,
          39,
          27,
          26,
          16,
          4,
          2
         ]
        },
        {
         "name": "F - Selecionado",
         "text": [
          "1",
          "6",
          "19",
          "100",
          "77",
          "67",
          "61",
          "27",
          "6",
          "2"
         ],
         "textposition": "auto",
         "type": "bar",
         "uid": "377c9d85-60be-4e4a-8082-7b5b8823332e",
         "x": [
          "0-9",
          "10-15",
          "16-20",
          "21-30",
          "31-40",
          "41-50",
          "51-60",
          "61-70",
          "71-80",
          "81-90"
         ],
         "y": [
          1,
          6,
          19,
          100,
          77,
          67,
          61,
          27,
          6,
          2
         ]
        },
        {
         "name": "M - Selecionado",
         "text": [
          "0",
          "5",
          "10",
          "85",
          "47",
          "31",
          "32",
          "17",
          "2",
          "1"
         ],
         "textposition": "auto",
         "type": "bar",
         "uid": "0fb0be63-73e1-414e-af1e-047bbca76f4f",
         "x": [
          "0-9",
          "10-15",
          "16-20",
          "21-30",
          "31-40",
          "41-50",
          "51-60",
          "61-70",
          "71-80",
          "81-90"
         ],
         "y": [
          0,
          5,
          10,
          85,
          47,
          31,
          32,
          17,
          2,
          1
         ]
        }
       ],
       "layout": {
        "autosize": true,
        "barmode": "stack",
        "title": {
         "text": "Total por Genero e Target"
        },
        "xaxis": {
         "autorange": true,
         "range": [
          -0.5,
          9.5
         ],
         "type": "category"
        },
        "yaxis": {
         "autorange": true,
         "range": [
          0,
          364.2105263157895
         ],
         "type": "linear"
        }
       }
      },
      "image/png": "[encoded data removed]",
      "text/html": [
       "<div id=\"a6148bb7-6667-49c0-8ff5-0958cfd98c46\" style=\"height: 525px; width: 100%;\" class=\"plotly-graph-div\"></div><script type=\"text/javascript\">require([\"plotly\"], function(Plotly) { window.PLOTLYENV=window.PLOTLYENV || {};window.PLOTLYENV.BASE_URL=\"https://plot.ly\";Plotly.newPlot(\"a6148bb7-6667-49c0-8ff5-0958cfd98c46\", [{\"name\": \"F - N/ Selecionado\", \"text\": [\"1\", \"2\", \"9\", \"106\", \"51\", \"49\", \"49\", \"16\", \"6\", \"1\"], \"textposition\": \"auto\", \"x\": [\"0-9\", \"10-15\", \"16-20\", \"21-30\", \"31-40\", \"41-50\", \"51-60\", \"61-70\", \"71-80\", \"81-90\"], \"y\": [1, 2, 9, 106, 51, 49, 49, 16, 6, 1], \"type\": \"bar\", \"uid\": \"836b08ba-f165-4621-a1c1-93c40db796c9\"}, {\"name\": \"M - N/ Selecionado\", \"text\": [\"4\", \"7\", \"4\", \"55\", \"39\", \"27\", \"26\", \"16\", \"4\", \"2\"], \"textposition\": \"auto\", \"x\": [\"0-9\", \"10-15\", \"16-20\", \"21-30\", \"31-40\", \"41-50\", \"51-60\", \"61-70\", \"71-80\", \"81-90\"], \"y\": [4, 7, 4, 55, 39, 27, 26, 16, 4, 2], \"type\": \"bar\", \"uid\": \"03d819fc-8050-42e0-85c4-7b41edd4122e\"}, {\"name\": \"F - Selecionado\", \"text\": [\"1\", \"6\", \"19\", \"100\", \"77\", \"67\", \"61\", \"27\", \"6\", \"2\"], \"textposition\": \"auto\", \"x\": [\"0-9\", \"10-15\", \"16-20\", \"21-30\", \"31-40\", \"41-50\", \"51-60\", \"61-70\", \"71-80\", \"81-90\"], \"y\": [1, 6, 19, 100, 77, 67, 61, 27, 6, 2], \"type\": \"bar\", \"uid\": \"377c9d85-60be-4e4a-8082-7b5b8823332e\"}, {\"name\": \"M - Selecionado\", \"text\": [\"0\", \"5\", \"10\", \"85\", \"47\", \"31\", \"32\", \"17\", \"2\", \"1\"], \"textposition\": \"auto\", \"x\": [\"0-9\", \"10-15\", \"16-20\", \"21-30\", \"31-40\", \"41-50\", \"51-60\", \"61-70\", \"71-80\", \"81-90\"], \"y\": [0, 5, 10, 85, 47, 31, 32, 17, 2, 1], \"type\": \"bar\", \"uid\": \"0fb0be63-73e1-414e-af1e-047bbca76f4f\"}], {\"barmode\": \"stack\", \"title\": {\"text\": \"Total por Genero e Target\"}}, {\"showLink\": false, \"linkText\": \"Export to plot.ly\", \"plotlyServerURL\": \"https://plot.ly\"})});</script><script type=\"text/javascript\">window.addEventListener(\"resize\", function(){window._Plotly.Plots.resize(document.getElementById(\"a6148bb7-6667-49c0-8ff5-0958cfd98c46\"));});</script>"
      ],
      "text/vnd.plotly.v1+html": [
       "<div id=\"a6148bb7-6667-49c0-8ff5-0958cfd98c46\" style=\"height: 525px; width: 100%;\" class=\"plotly-graph-div\"></div><script type=\"text/javascript\">require([\"plotly\"], function(Plotly) { window.PLOTLYENV=window.PLOTLYENV || {};window.PLOTLYENV.BASE_URL=\"https://plot.ly\";Plotly.newPlot(\"a6148bb7-6667-49c0-8ff5-0958cfd98c46\", [{\"name\": \"F - N/ Selecionado\", \"text\": [\"1\", \"2\", \"9\", \"106\", \"51\", \"49\", \"49\", \"16\", \"6\", \"1\"], \"textposition\": \"auto\", \"x\": [\"0-9\", \"10-15\", \"16-20\", \"21-30\", \"31-40\", \"41-50\", \"51-60\", \"61-70\", \"71-80\", \"81-90\"], \"y\": [1, 2, 9, 106, 51, 49, 49, 16, 6, 1], \"type\": \"bar\", \"uid\": \"836b08ba-f165-4621-a1c1-93c40db796c9\"}, {\"name\": \"M - N/ Selecionado\", \"text\": [\"4\", \"7\", \"4\", \"55\", \"39\", \"27\", \"26\", \"16\", \"4\", \"2\"], \"textposition\": \"auto\", \"x\": [\"0-9\", \"10-15\", \"16-20\", \"21-30\", \"31-40\", \"41-50\", \"51-60\", \"61-70\", \"71-80\", \"81-90\"], \"y\": [4, 7, 4, 55, 39, 27, 26, 16, 4, 2], \"type\": \"bar\", \"uid\": \"03d819fc-8050-42e0-85c4-7b41edd4122e\"}, {\"name\": \"F - Selecionado\", \"text\": [\"1\", \"6\", \"19\", \"100\", \"77\", \"67\", \"61\", \"27\", \"6\", \"2\"], \"textposition\": \"auto\", \"x\": [\"0-9\", \"10-15\", \"16-20\", \"21-30\", \"31-40\", \"41-50\", \"51-60\", \"61-70\", \"71-80\", \"81-90\"], \"y\": [1, 6, 19, 100, 77, 67, 61, 27, 6, 2], \"type\": \"bar\", \"uid\": \"377c9d85-60be-4e4a-8082-7b5b8823332e\"}, {\"name\": \"M - Selecionado\", \"text\": [\"0\", \"5\", \"10\", \"85\", \"47\", \"31\", \"32\", \"17\", \"2\", \"1\"], \"textposition\": \"auto\", \"x\": [\"0-9\", \"10-15\", \"16-20\", \"21-30\", \"31-40\", \"41-50\", \"51-60\", \"61-70\", \"71-80\", \"81-90\"], \"y\": [0, 5, 10, 85, 47, 31, 32, 17, 2, 1], \"type\": \"bar\", \"uid\": \"0fb0be63-73e1-414e-af1e-047bbca76f4f\"}], {\"barmode\": \"stack\", \"title\": {\"text\": \"Total por Genero e Target\"}}, {\"showLink\": false, \"linkText\": \"Export to plot.ly\", \"plotlyServerURL\": \"https://plot.ly\"})});</script><script type=\"text/javascript\">window.addEventListener(\"resize\", function(){window._Plotly.Plots.resize(document.getElementById(\"a6148bb7-6667-49c0-8ff5-0958cfd98c46\"));});</script>"
      ]
     },
     "metadata": {},
     "output_type": "display_data"
    },
    {
     "data": {
      "text/plain": [
       "'file:///home/d116626/JupyterLab/lnd/notebooks/Total Genero.html'"
      ]
     },
     "execution_count": 31,
     "metadata": {},
     "output_type": "execute_result"
    }
   ],
   "source": [
    "\n",
    "trace1 = go.Bar(\n",
    "    x=n_x_m,\n",
    "    y=n_y_m,\n",
    "    name='F - N/ Selecionado',\n",
    "    text=n_y_m,\n",
    "    textposition = 'auto'\n",
    ")\n",
    "trace2 = go.Bar(\n",
    "    x=n_x_h,\n",
    "    y=n_y_h,\n",
    "    name='M - N/ Selecionado',\n",
    "    text=n_y_h,\n",
    "    textposition = 'auto'\n",
    ")\n",
    "\n",
    "trace3 = go.Bar(\n",
    "    x=s_x_m,\n",
    "    y=s_y_m,\n",
    "    name='F - Selecionado',\n",
    "    text=s_y_m,\n",
    "    textposition = 'auto'\n",
    ")\n",
    "trace4 = go.Bar(\n",
    "    x=s_x_h,\n",
    "    y=s_y_h,\n",
    "    name='M - Selecionado',\n",
    "    text=s_y_h,\n",
    "    textposition = 'auto'\n",
    ")\n",
    "\n",
    "\n",
    "\n",
    "data = [trace1, trace2,trace3,trace4]\n",
    "layout = go.Layout(title='Total por Genero e Target',\n",
    "    barmode='stack',\n",
    "#     width=400*3.18, \n",
    "#     height=1.3*660,  #960\n",
    ")\n",
    "\n",
    "fig = go.Figure(data=data, layout=layout)\n",
    "iplot(fig, filename='stacked-bar')\n",
    "#     plotly.offline.plot(fig)\n",
    "plotly.offline.plot(fig, filename = '%s.html'%'Total Genero', auto_open=True)"
   ]
  },
  {
   "cell_type": "code",
   "execution_count": null,
   "metadata": {},
   "outputs": [],
   "source": []
  },
  {
   "cell_type": "code",
   "execution_count": null,
   "metadata": {},
   "outputs": [],
   "source": []
  },
  {
   "cell_type": "code",
   "execution_count": null,
   "metadata": {},
   "outputs": [],
   "source": []
  }
 ],
 "metadata": {
  "kernelspec": {
   "display_name": "Python 3",
   "language": "python",
   "name": "python3"
  },
  "language_info": {
   "codemirror_mode": {
    "name": "ipython",
    "version": 3
   },
   "file_extension": ".py",
   "mimetype": "text/x-python",
   "name": "python",
   "nbconvert_exporter": "python",
   "pygments_lexer": "ipython3",
   "version": "3.7.0"
  },
  "toc": {
   "base_numbering": 1,
   "nav_menu": {},
   "number_sections": true,
   "sideBar": true,
   "skip_h1_title": false,
   "title_cell": "Table of Contents",
   "title_sidebar": "Contents",
   "toc_cell": false,
   "toc_position": {},
   "toc_section_display": true,
   "toc_window_display": false
  }
 },
 "nbformat": 4,
 "nbformat_minor": 2
}
